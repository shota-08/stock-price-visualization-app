{
 "cells": [
  {
   "cell_type": "code",
   "execution_count": 1,
   "metadata": {},
   "outputs": [],
   "source": [
    "import pandas as pd\n",
    "import matplotlib.pyplot as plt\n",
    "import yfinance as yf"
   ]
  },
  {
   "cell_type": "code",
   "execution_count": 2,
   "metadata": {},
   "outputs": [],
   "source": [
    "sp500 = yf.Ticker(\"2558.T\")\n",
    "allcountry = yf.Ticker(\"2559.T\")\n",
    "nikkei = yf.Ticker(\"^N225\")\n",
    "topix = yf.Ticker(\"1308.T\")\n",
    "fang = yf.Ticker(\"316A.T\")"
   ]
  },
  {
   "cell_type": "code",
   "execution_count": 3,
   "metadata": {},
   "outputs": [
    {
     "data": {
      "text/html": [
       "<div>\n",
       "<style scoped>\n",
       "    .dataframe tbody tr th:only-of-type {\n",
       "        vertical-align: middle;\n",
       "    }\n",
       "\n",
       "    .dataframe tbody tr th {\n",
       "        vertical-align: top;\n",
       "    }\n",
       "\n",
       "    .dataframe thead th {\n",
       "        text-align: right;\n",
       "    }\n",
       "</style>\n",
       "<table border=\"1\" class=\"dataframe\">\n",
       "  <thead>\n",
       "    <tr style=\"text-align: right;\">\n",
       "      <th></th>\n",
       "      <th>Open</th>\n",
       "      <th>High</th>\n",
       "      <th>Low</th>\n",
       "      <th>Close</th>\n",
       "      <th>Volume</th>\n",
       "      <th>Dividends</th>\n",
       "      <th>Stock Splits</th>\n",
       "      <th>Capital Gains</th>\n",
       "    </tr>\n",
       "    <tr>\n",
       "      <th>Date</th>\n",
       "      <th></th>\n",
       "      <th></th>\n",
       "      <th></th>\n",
       "      <th></th>\n",
       "      <th></th>\n",
       "      <th></th>\n",
       "      <th></th>\n",
       "      <th></th>\n",
       "    </tr>\n",
       "  </thead>\n",
       "  <tbody>\n",
       "    <tr>\n",
       "      <th>2025-01-27 00:00:00+09:00</th>\n",
       "      <td>1982.0</td>\n",
       "      <td>1984.0</td>\n",
       "      <td>1948.0</td>\n",
       "      <td>1952.0</td>\n",
       "      <td>2225419</td>\n",
       "      <td>0.0</td>\n",
       "      <td>0.0</td>\n",
       "      <td>0.0</td>\n",
       "    </tr>\n",
       "    <tr>\n",
       "      <th>2025-01-28 00:00:00+09:00</th>\n",
       "      <td>1929.0</td>\n",
       "      <td>1955.0</td>\n",
       "      <td>1925.0</td>\n",
       "      <td>1955.0</td>\n",
       "      <td>1277297</td>\n",
       "      <td>0.0</td>\n",
       "      <td>0.0</td>\n",
       "      <td>0.0</td>\n",
       "    </tr>\n",
       "    <tr>\n",
       "      <th>2025-01-29 00:00:00+09:00</th>\n",
       "      <td>1991.0</td>\n",
       "      <td>2002.0</td>\n",
       "      <td>1988.0</td>\n",
       "      <td>2001.0</td>\n",
       "      <td>909362</td>\n",
       "      <td>0.0</td>\n",
       "      <td>0.0</td>\n",
       "      <td>0.0</td>\n",
       "    </tr>\n",
       "  </tbody>\n",
       "</table>\n",
       "</div>"
      ],
      "text/plain": [
       "                             Open    High     Low   Close   Volume  Dividends  \\\n",
       "Date                                                                            \n",
       "2025-01-27 00:00:00+09:00  1982.0  1984.0  1948.0  1952.0  2225419        0.0   \n",
       "2025-01-28 00:00:00+09:00  1929.0  1955.0  1925.0  1955.0  1277297        0.0   \n",
       "2025-01-29 00:00:00+09:00  1991.0  2002.0  1988.0  2001.0   909362        0.0   \n",
       "\n",
       "                           Stock Splits  Capital Gains  \n",
       "Date                                                    \n",
       "2025-01-27 00:00:00+09:00           0.0            0.0  \n",
       "2025-01-28 00:00:00+09:00           0.0            0.0  \n",
       "2025-01-29 00:00:00+09:00           0.0            0.0  "
      ]
     },
     "execution_count": 3,
     "metadata": {},
     "output_type": "execute_result"
    }
   ],
   "source": [
    "days = 10\n",
    "hist = fang.history(period=f'{days}d')\n",
    "hist.head(3)\n"
   ]
  },
  {
   "cell_type": "code",
   "execution_count": 4,
   "metadata": {},
   "outputs": [
    {
     "data": {
      "text/plain": [
       "DatetimeIndex(['2025-01-27 00:00:00+09:00', '2025-01-28 00:00:00+09:00',\n",
       "               '2025-01-29 00:00:00+09:00', '2025-01-30 00:00:00+09:00',\n",
       "               '2025-01-31 00:00:00+09:00', '2025-02-03 00:00:00+09:00',\n",
       "               '2025-02-04 00:00:00+09:00', '2025-02-05 00:00:00+09:00',\n",
       "               '2025-02-06 00:00:00+09:00', '2025-02-07 00:00:00+09:00'],\n",
       "              dtype='datetime64[ns, Asia/Tokyo]', name='Date', freq=None)"
      ]
     },
     "execution_count": 4,
     "metadata": {},
     "output_type": "execute_result"
    }
   ],
   "source": [
    "hist.index"
   ]
  },
  {
   "cell_type": "code",
   "execution_count": 5,
   "metadata": {},
   "outputs": [],
   "source": [
    "hist.index = hist.index.strftime(\"%d %B %Y\")"
   ]
  },
  {
   "cell_type": "code",
   "execution_count": 6,
   "metadata": {},
   "outputs": [
    {
     "data": {
      "text/html": [
       "<div>\n",
       "<style scoped>\n",
       "    .dataframe tbody tr th:only-of-type {\n",
       "        vertical-align: middle;\n",
       "    }\n",
       "\n",
       "    .dataframe tbody tr th {\n",
       "        vertical-align: top;\n",
       "    }\n",
       "\n",
       "    .dataframe thead th {\n",
       "        text-align: right;\n",
       "    }\n",
       "</style>\n",
       "<table border=\"1\" class=\"dataframe\">\n",
       "  <thead>\n",
       "    <tr style=\"text-align: right;\">\n",
       "      <th></th>\n",
       "      <th>Open</th>\n",
       "      <th>High</th>\n",
       "      <th>Low</th>\n",
       "      <th>Close</th>\n",
       "      <th>Volume</th>\n",
       "      <th>Dividends</th>\n",
       "      <th>Stock Splits</th>\n",
       "      <th>Capital Gains</th>\n",
       "    </tr>\n",
       "    <tr>\n",
       "      <th>Date</th>\n",
       "      <th></th>\n",
       "      <th></th>\n",
       "      <th></th>\n",
       "      <th></th>\n",
       "      <th></th>\n",
       "      <th></th>\n",
       "      <th></th>\n",
       "      <th></th>\n",
       "    </tr>\n",
       "  </thead>\n",
       "  <tbody>\n",
       "    <tr>\n",
       "      <th>27 January 2025</th>\n",
       "      <td>1982.0</td>\n",
       "      <td>1984.0</td>\n",
       "      <td>1948.0</td>\n",
       "      <td>1952.0</td>\n",
       "      <td>2225419</td>\n",
       "      <td>0.0</td>\n",
       "      <td>0.0</td>\n",
       "      <td>0.0</td>\n",
       "    </tr>\n",
       "    <tr>\n",
       "      <th>28 January 2025</th>\n",
       "      <td>1929.0</td>\n",
       "      <td>1955.0</td>\n",
       "      <td>1925.0</td>\n",
       "      <td>1955.0</td>\n",
       "      <td>1277297</td>\n",
       "      <td>0.0</td>\n",
       "      <td>0.0</td>\n",
       "      <td>0.0</td>\n",
       "    </tr>\n",
       "    <tr>\n",
       "      <th>29 January 2025</th>\n",
       "      <td>1991.0</td>\n",
       "      <td>2002.0</td>\n",
       "      <td>1988.0</td>\n",
       "      <td>2001.0</td>\n",
       "      <td>909362</td>\n",
       "      <td>0.0</td>\n",
       "      <td>0.0</td>\n",
       "      <td>0.0</td>\n",
       "    </tr>\n",
       "  </tbody>\n",
       "</table>\n",
       "</div>"
      ],
      "text/plain": [
       "                   Open    High     Low   Close   Volume  Dividends  \\\n",
       "Date                                                                  \n",
       "27 January 2025  1982.0  1984.0  1948.0  1952.0  2225419        0.0   \n",
       "28 January 2025  1929.0  1955.0  1925.0  1955.0  1277297        0.0   \n",
       "29 January 2025  1991.0  2002.0  1988.0  2001.0   909362        0.0   \n",
       "\n",
       "                 Stock Splits  Capital Gains  \n",
       "Date                                          \n",
       "27 January 2025           0.0            0.0  \n",
       "28 January 2025           0.0            0.0  \n",
       "29 January 2025           0.0            0.0  "
      ]
     },
     "execution_count": 6,
     "metadata": {},
     "output_type": "execute_result"
    }
   ],
   "source": [
    "hist.head(3)"
   ]
  },
  {
   "cell_type": "code",
   "execution_count": 7,
   "metadata": {},
   "outputs": [],
   "source": [
    "hist = hist[['Close']]\n",
    "hist.columns = ['FANG+']"
   ]
  },
  {
   "cell_type": "code",
   "execution_count": 9,
   "metadata": {},
   "outputs": [
    {
     "data": {
      "text/html": [
       "<div>\n",
       "<style scoped>\n",
       "    .dataframe tbody tr th:only-of-type {\n",
       "        vertical-align: middle;\n",
       "    }\n",
       "\n",
       "    .dataframe tbody tr th {\n",
       "        vertical-align: top;\n",
       "    }\n",
       "\n",
       "    .dataframe thead th {\n",
       "        text-align: right;\n",
       "    }\n",
       "</style>\n",
       "<table border=\"1\" class=\"dataframe\">\n",
       "  <thead>\n",
       "    <tr style=\"text-align: right;\">\n",
       "      <th>Date</th>\n",
       "      <th>27 January 2025</th>\n",
       "      <th>28 January 2025</th>\n",
       "      <th>29 January 2025</th>\n",
       "      <th>30 January 2025</th>\n",
       "      <th>31 January 2025</th>\n",
       "      <th>03 February 2025</th>\n",
       "      <th>04 February 2025</th>\n",
       "      <th>05 February 2025</th>\n",
       "      <th>06 February 2025</th>\n",
       "      <th>07 February 2025</th>\n",
       "    </tr>\n",
       "  </thead>\n",
       "  <tbody>\n",
       "    <tr>\n",
       "      <th>FANG+</th>\n",
       "      <td>1952.0</td>\n",
       "      <td>1955.0</td>\n",
       "      <td>2001.0</td>\n",
       "      <td>1960.0</td>\n",
       "      <td>1956.0</td>\n",
       "      <td>1900.0</td>\n",
       "      <td>1934.0</td>\n",
       "      <td>1929.0</td>\n",
       "      <td>1951.0</td>\n",
       "      <td>1939.0</td>\n",
       "    </tr>\n",
       "  </tbody>\n",
       "</table>\n",
       "</div>"
      ],
      "text/plain": [
       "Date   27 January 2025  28 January 2025  29 January 2025  30 January 2025  \\\n",
       "FANG+           1952.0           1955.0           2001.0           1960.0   \n",
       "\n",
       "Date   31 January 2025  03 February 2025  04 February 2025  05 February 2025  \\\n",
       "FANG+           1956.0            1900.0            1934.0            1929.0   \n",
       "\n",
       "Date   06 February 2025  07 February 2025  \n",
       "FANG+            1951.0            1939.0  "
      ]
     },
     "execution_count": 9,
     "metadata": {},
     "output_type": "execute_result"
    }
   ],
   "source": [
    "hist.T"
   ]
  },
  {
   "cell_type": "code",
   "execution_count": null,
   "metadata": {},
   "outputs": [],
   "source": []
  }
 ],
 "metadata": {
  "kernelspec": {
   "display_name": ".venv",
   "language": "python",
   "name": "python3"
  },
  "language_info": {
   "codemirror_mode": {
    "name": "ipython",
    "version": 3
   },
   "file_extension": ".py",
   "mimetype": "text/x-python",
   "name": "python",
   "nbconvert_exporter": "python",
   "pygments_lexer": "ipython3",
   "version": "3.11.9"
  }
 },
 "nbformat": 4,
 "nbformat_minor": 2
}
